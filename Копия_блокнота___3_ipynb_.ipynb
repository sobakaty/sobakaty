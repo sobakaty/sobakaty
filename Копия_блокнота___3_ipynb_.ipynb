{
  "nbformat": 4,
  "nbformat_minor": 0,
  "metadata": {
    "colab": {
      "provenance": [],
      "collapsed_sections": []
    },
    "kernelspec": {
      "name": "python3",
      "display_name": "Python 3"
    },
    "language_info": {
      "name": "python"
    }
  },
  "cells": [
    {
      "cell_type": "markdown",
      "source": [
        "# Домашнее задание №3"
      ],
      "metadata": {
        "id": "ZEfFasFJqw1A"
      }
    },
    {
      "cell_type": "markdown",
      "source": [
        "Во всех задачах для ввода данных используйте `input()`, а для вывода данных используйте `print()`"
      ],
      "metadata": {
        "id": "DCG5sNU051Re"
      }
    },
    {
      "cell_type": "markdown",
      "source": [
        "## Задача №1\n",
        "\n",
        "**Условие:** Необходимо ввести с клавиатуры последовательность натуральных чисел, каждое число на новой строке. Последовательность завершается числом 0. Необходимо найти наибольший элемент в последовательности.\n",
        "\n",
        "**Пример для проверки:**  \n",
        "*Входные данные*     \n",
        "1                       \n",
        "8  \n",
        "4  \n",
        "0  \n",
        "*Выходные данные*   \n",
        "8\n"
      ],
      "metadata": {
        "id": "NFpHXzQ6qJxb"
      }
    },
    {
      "cell_type": "code",
      "source": [
        "\n",
        "num = int(input())\n",
        "list = []\n",
        "while num!= 0:\n",
        "   list.append(num)\n",
        "   num = int(input())\n",
        "try:\n",
        "  print('Максимальное:', max(list))\n",
        "  print(list)\n",
        "except:\n",
        "  print(\"Пидор, ноль не включаем\")\n",
        "\n",
        "#a=int(input())\n",
        "#lis=[]\n",
        "#while a!=0:\n",
        "#  lis.append(a)\n",
        "#  a=int(input())\n",
        "\n",
        "#print(max(lis))\n",
        "\n"
      ],
      "metadata": {
        "colab": {
          "base_uri": "https://localhost:8080/"
        },
        "id": "fBRZFCKe7QQQ",
        "outputId": "f3bf0811-da7c-4b49-c403-6d9f3074d3a8"
      },
      "execution_count": null,
      "outputs": [
        {
          "output_type": "stream",
          "name": "stdout",
          "text": [
            "0\n",
            "Пидор, ноль не включаем\n"
          ]
        }
      ]
    },
    {
      "cell_type": "markdown",
      "source": [
        "## Задача №2\n",
        "\n",
        "**Условие:** Дана строка. Необходимо удалить из этой строки все символы %. Для решения задачи используйте цикл.\n",
        "\n",
        "**Пример для проверки:**  \n",
        "*Входные данные*  \n",
        "GHRE%%%%fd%dfjkan%%fleo%%%%r%fe%  \n",
        "*Выходные данные*  \n",
        "GHREfddfjkanfleorfe\n",
        "\n",
        "\n"
      ],
      "metadata": {
        "id": "BXBB8FYxVrQ7"
      }
    },
    {
      "cell_type": "code",
      "source": [
        "str = input()\n",
        "res_str = str.replace('%', '')\n",
        "print(res_str)"
      ],
      "metadata": {
        "colab": {
          "base_uri": "https://localhost:8080/"
        },
        "id": "PEn5uZTvH8VE",
        "outputId": "14f7bee6-a9ed-43f2-8bc4-c0aecdfbabc1"
      },
      "execution_count": null,
      "outputs": [
        {
          "output_type": "stream",
          "name": "stdout",
          "text": [
            "%%%%\n",
            "\n"
          ]
        }
      ]
    },
    {
      "cell_type": "markdown",
      "source": [
        "## Задача №3\n",
        "\n",
        "**Условие:** Даны два целых числа A и B (при этом A ≤ B). Выведите все числа от A включительно до B включительно (математическая запись - [A, B]).\n",
        "\n",
        "**Пример для проверки:**  \n",
        "*Входные данные*  \n",
        "1  \n",
        "10  \n",
        "*Выходные данные*  \n",
        "1 2 3 4 5 6 7 8 9 10\n",
        "\n"
      ],
      "metadata": {
        "id": "x8ciCybeW2xC"
      }
    },
    {
      "cell_type": "code",
      "source": [
        "\n",
        "num1 = int(input())\n",
        "num2 = int(input())\n",
        "for i in range (num1, num2+1):\n",
        "    print(i)"
      ],
      "metadata": {
        "colab": {
          "base_uri": "https://localhost:8080/"
        },
        "id": "7eWcnMp2TWZb",
        "outputId": "f37ee67e-e440-466c-b797-459ab668ae2e"
      },
      "execution_count": null,
      "outputs": [
        {
          "output_type": "stream",
          "name": "stdout",
          "text": [
            "-5\n",
            "12\n",
            "-5\n",
            "-4\n",
            "-3\n",
            "-2\n",
            "-1\n",
            "0\n",
            "1\n",
            "2\n",
            "3\n",
            "4\n",
            "5\n",
            "6\n",
            "7\n",
            "8\n",
            "9\n",
            "10\n",
            "11\n",
            "12\n"
          ]
        }
      ]
    },
    {
      "cell_type": "markdown",
      "source": [
        "## Задача №4\n",
        "\n",
        "**Условие:** Необходимо ввести с клавиатуры 10 целых чисел. Вычислите сумму введенных чисел. \n",
        "\n",
        "**Пример для проверки:**  \n",
        "*Входные данные*  \n",
        "8  \n",
        "4  \n",
        "5  \n",
        "3  \n",
        "9  \n",
        "2  \n",
        "3   \n",
        "4  \n",
        "5  \n",
        "1  \n",
        "*Выходные данные*  \n",
        "44\n"
      ],
      "metadata": {
        "id": "VJZuJcAAX2Td"
      }
    },
    {
      "cell_type": "code",
      "source": [
        "sum = 0 #заводим счетчик\n",
        "num = int(input()) #сколько чисел будем вводить с клавиатуры\n",
        "for i in range(num): #заводим цикл по длине ввода с клавиатуры\n",
        "    n = int(input()) #вводим числа с клавиатуры\n",
        "    sum+=n#прибавляем к счетчику цифры с клавиатуры\n",
        "    print(sum) #выводим результат"
      ],
      "metadata": {
        "colab": {
          "base_uri": "https://localhost:8080/"
        },
        "id": "KzOx0TgmUz1h",
        "outputId": "8cc9b646-6df9-4ddb-f008-c9302b312e26"
      },
      "execution_count": null,
      "outputs": [
        {
          "output_type": "stream",
          "name": "stdout",
          "text": [
            "10\n",
            "758\n",
            "758\n",
            "483\n",
            "1241\n",
            "893\n",
            "2134\n",
            "393\n",
            "2527\n",
            "293\n",
            "2820\n",
            "292\n",
            "3112\n",
            "292\n",
            "3404\n",
            "485\n",
            "3889\n",
            "828\n",
            "4717\n",
            "183\n",
            "4900\n"
          ]
        }
      ]
    },
    {
      "cell_type": "markdown",
      "source": [
        "## Задача №5\n",
        "\n",
        "**Условие:** Факториалом числа n называется произведение 1 * 2 * ... * n. Обозначение: n!.\n",
        "Введите с клавиатуры натуральное число n. Вычислите значение n!. \n",
        "\n",
        "В решении задачи нельзя использовать математическую библиотеку math.\n",
        "\n",
        "**Пример для проверки:**  \n",
        "*Входные данные*  \n",
        "7  \n",
        "*Выходные данные*  \n",
        "5040\n",
        "\n"
      ],
      "metadata": {
        "id": "Muk2CUktYmUk"
      }
    },
    {
      "cell_type": "code",
      "source": [
        "comp = 1 #заводим счетчик\n",
        "n = int(input())\n",
        "for i in range(1, n+1): #заводим цикл по длине ввода с клавиатуры\n",
        "    comp*=i#умножаем к счетчику цифры с клавиатуры\n",
        "    print(comp) #выводим результат"
      ],
      "metadata": {
        "colab": {
          "base_uri": "https://localhost:8080/"
        },
        "id": "TmfmB_duTQfv",
        "outputId": "fb1521bb-0df4-4a3f-92f4-7292f6b98f4e"
      },
      "execution_count": null,
      "outputs": [
        {
          "output_type": "stream",
          "name": "stdout",
          "text": [
            "12\n",
            "1\n",
            "2\n",
            "6\n",
            "24\n",
            "120\n",
            "720\n",
            "5040\n",
            "40320\n",
            "362880\n",
            "3628800\n",
            "39916800\n",
            "479001600\n"
          ]
        }
      ]
    }
  ]
}